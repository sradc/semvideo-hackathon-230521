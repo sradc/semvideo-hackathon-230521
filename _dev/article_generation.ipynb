{
 "cells": [
  {
   "attachments": {},
   "cell_type": "markdown",
   "metadata": {},
   "source": [
    "# Generate article from a project description"
   ]
  },
  {
   "cell_type": "code",
   "execution_count": 1,
   "metadata": {},
   "outputs": [],
   "source": [
    "from pathlib import Path\n",
    "\n",
    "from langchain import schema, prompts"
   ]
  },
  {
   "cell_type": "code",
   "execution_count": 2,
   "metadata": {},
   "outputs": [],
   "source": [
    "SYSTEM_PROMPT = \"\"\"You are a technical writer. You will be given a project description and a list of tools used.\n",
    "You will be asked to write a short article about the project, describing the tools used and the project itself.\n",
    "\"\"\""
   ]
  },
  {
   "cell_type": "code",
   "execution_count": 3,
   "metadata": {},
   "outputs": [],
   "source": [
    "HUMAN_PROMPT = \"\"\"\n",
    "PROJECT DESCRIPTION:\n",
    "{project_description}\n",
    "\n",
    "TOOLS USED:\n",
    "{tools_used}\n",
    "\"\"\""
   ]
  },
  {
   "cell_type": "code",
   "execution_count": 4,
   "metadata": {},
   "outputs": [],
   "source": [
    "PROJECT_DESCRIPTION = Path(\"../README.md\").read_text()"
   ]
  },
  {
   "cell_type": "code",
   "execution_count": 5,
   "metadata": {},
   "outputs": [],
   "source": [
    "TOOLS_USED = \"\"\"\n",
    "- CLIP (OpenAI)\n",
    "- FAISS (Facebook)\n",
    "- HuggingFace Spaces\n",
    "- Streamlit\n",
    "\"\"\""
   ]
  },
  {
   "cell_type": "code",
   "execution_count": 6,
   "metadata": {},
   "outputs": [],
   "source": [
    "prompt = prompts.ChatPromptTemplate.from_messages(\n",
    "    messages=[\n",
    "        schema.SystemMessage(content=SYSTEM_PROMPT),\n",
    "        prompts.HumanMessagePromptTemplate.from_template(\n",
    "            HUMAN_PROMPT,\n",
    "        )\n",
    "    ]\n",
    ")"
   ]
  },
  {
   "cell_type": "code",
   "execution_count": 7,
   "metadata": {},
   "outputs": [
    {
     "name": "stdout",
     "output_type": "stream",
     "text": [
      "System: You are a technical writer. You will be given a project description and a list of tools used.\n",
      "You will be asked to write a short article about the project, describing the tools used and the project itself.\n",
      "\n",
      "Human: \n",
      "PROJECT DESCRIPTION:\n",
      "---\n",
      "title: Visual Content Search Over Videos\n",
      "emoji: 🐢\n",
      "colorFrom: yellow\n",
      "colorTo: green\n",
      "sdk: streamlit\n",
      "sdk_version: 1.19.0\n",
      "app_file: video_semantic_search/app.py\n",
      "pinned: false\n",
      "---\n",
      "\n",
      "# semvideo-hackathon-230521\n",
      "\n",
      "## Project Description\n",
      "\n",
      "This project let's you search YouTube videos using a text string. The search is done over the actual video frames,\n",
      "rather than any associated text. The search results are displayed as a list of videos, with the most relevant video\n",
      "shown first. The user can then click on any of the videos to play it.\n",
      "\n",
      "## Quick Start\n",
      "\n",
      "Run the following commands to get started:\n",
      "\n",
      "```bash\n",
      "git clone https://github.com/sradc/semvideo-hackathon-230521.git\n",
      "cd semvideo-hackathon-230521\n",
      "poetry install\n",
      "PYTHONPATH=. poetry run streamlit run video_semantic_search/app.py\n",
      "```\n",
      "\n",
      "If you do not have `poetry` installed, refer to the [poetry documentation](https://python-poetry.org/docs/#installation).\n",
      "\n",
      "\n",
      "TOOLS USED:\n",
      "\n",
      "- CLIP (OpenAI)\n",
      "- FAISS (Facebook)\n",
      "- HuggingFace Spaces\n",
      "- Streamlit\n",
      "\n",
      "\n"
     ]
    }
   ],
   "source": [
    "print(prompt.format(\n",
    "    project_description=PROJECT_DESCRIPTION,\n",
    "    tools_used=TOOLS_USED,\n",
    "))"
   ]
  }
 ],
 "metadata": {
  "kernelspec": {
   "display_name": "video-semantic-search-PBt6tkTV-py3.9",
   "language": "python",
   "name": "python3"
  },
  "language_info": {
   "codemirror_mode": {
    "name": "ipython",
    "version": 3
   },
   "file_extension": ".py",
   "mimetype": "text/x-python",
   "name": "python",
   "nbconvert_exporter": "python",
   "pygments_lexer": "ipython3",
   "version": "3.9.16"
  },
  "orig_nbformat": 4
 },
 "nbformat": 4,
 "nbformat_minor": 2
}
